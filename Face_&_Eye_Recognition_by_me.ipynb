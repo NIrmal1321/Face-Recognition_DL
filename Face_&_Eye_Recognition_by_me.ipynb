{
 "cells": [
  {
   "cell_type": "markdown",
   "id": "16a08912-4e9f-4900-b501-27549aaa2245",
   "metadata": {},
   "source": [
    "This Python script utilizes Haar cascade classifiers with OpenCV to detect faces and eyes either from a live webcam feed or a static image. It first loads pre-trained XML models for face and eye detection. The input image is converted to grayscale for faster and more accurate detection. Detected faces are outlined with a yellow rectangle, and within each face, detected eyes are highlighted with orange rectangles. Finally, it displays the processed image in a pop-up window."
   ]
  },
  {
   "cell_type": "markdown",
   "id": "1bfaaf09-948e-4bec-b751-88b2368ab2c6",
   "metadata": {},
   "source": [
    "🧠 1. Loading the Haar Cascade Files\n",
    "These .xml files contain trained models (Haar cascades) that help detect patterns—like faces or eyes—based on contrast features."
   ]
  },
  {
   "cell_type": "code",
   "execution_count": 1,
   "id": "95ab3495-8d91-446f-a65e-e22176d99ab0",
   "metadata": {},
   "outputs": [],
   "source": [
    "import cv2\n",
    "\n",
    "# Load the cascades # They load the classifiers for detecting faces and eyes.\n",
    "face_cascade = cv2.CascadeClassifier(r'C:\\Users\\NIRMAL\\Desktop\\Python.py\\amar jeet sir\\Deep Learning\\Face Recognation\\haarcascade_frontalface_default.xml')\n",
    "eye_cascade = cv2.CascadeClassifier(r'C:\\Users\\NIRMAL\\Desktop\\Python.py\\amar jeet sir\\Deep Learning\\Face Recognation\\haarcascade_eye.xml')\n"
   ]
  },
  {
   "cell_type": "markdown",
   "id": "4ddaea92-19b3-4078-bbcc-9aa67b6b02b9",
   "metadata": {},
   "source": [
    "🖼️ 2. Reading and Preprocessing the Image"
   ]
  },
  {
   "cell_type": "code",
   "execution_count": 2,
   "id": "7b6e0cea-6395-42fb-8a37-ab985a666cc3",
   "metadata": {},
   "outputs": [],
   "source": [
    "# Load the image\n",
    "img = cv2.imread(r'C:\\Users\\NIRMAL\\Desktop\\Python.py\\amar jeet sir\\Deep Learning\\Face Recognation\\Final Folder Face Recognition\\test.jpg')  # cv2.imread() reads the image.\n",
    "gray = cv2.cvtColor(img, cv2.COLOR_BGR2GRAY) #Since Haar cascades work better on grayscale, we convert the image using cv2.cvtColor().\n"
   ]
  },
  {
   "cell_type": "markdown",
   "id": "f22ccbf5-54de-4646-a9db-948f1436e7b9",
   "metadata": {},
   "source": [
    "👀 3. Detecting Faces\n",
    "This scans the grayscale image and returns coordinates of rectangles around detected faces."
   ]
  },
  {
   "cell_type": "code",
   "execution_count": 3,
   "id": "60283e95-26af-4470-b2b8-cb4a1b08128b",
   "metadata": {},
   "outputs": [],
   "source": [
    "# Detect faces\n",
    "faces = face_cascade.detectMultiScale(gray, 1.3, 10) # 1.3: How much the image size is reduced at each image scale.\n",
    "                                                    # 5: How many neighbours each rectangle should have to be retained (i.e. more = higher quality).\n",
    "\n",
    "for (x, y, w, h) in faces:                          # This loop draws a blue box around each detected face.\n",
    "    cv2.rectangle(img, (x, y), (x+w, y+h), (255, 255, 0), 2)\n",
    "    roi_gray = gray[y:y+h, x:x+w]\n",
    "    roi_color = img[y:y+h, x:x+w]\n"
   ]
  },
  {
   "cell_type": "markdown",
   "id": "6beaefb2-23a6-4d23-9621-eb2acc2bb91a",
   "metadata": {},
   "source": [
    "👁️ 5. Detecting and Drawing Eyes (Inside Each Face)"
   ]
  },
  {
   "cell_type": "code",
   "execution_count": 4,
   "id": "5568618e-ed72-4539-813b-6e1828447e07",
   "metadata": {},
   "outputs": [],
   "source": [
    " # Detect eyes within the face\n",
    "eyes = eye_cascade.detectMultiScale(roi_gray)  #Extract a Region of Interest (ROI)\n",
    "for (ex, ey, ew, eh) in eyes:\n",
    "    cv2.rectangle(roi_color, (ex, ey), (ex+ew, ey+eh), (0, 127, 255), 2) #Detect eyes in that face and draw orange rectangles around them.\n"
   ]
  },
  {
   "cell_type": "markdown",
   "id": "b8f8106b-44a8-4a6a-a04b-dc76d1f9be76",
   "metadata": {},
   "source": [
    "📺 6. Displaying the Image"
   ]
  },
  {
   "cell_type": "code",
   "execution_count": 5,
   "id": "78543a0d-7941-40ef-a769-907e9f97dd0a",
   "metadata": {},
   "outputs": [],
   "source": [
    "# Display the output\n",
    "cv2.imshow('Face and Eye Detection', img)  # imshow() pops up the window with results.\n",
    "cv2.waitKey(0)                             # waitKey(0) waits until any key is pressed.\n",
    "cv2.destroyAllWindows()                    # destroyAllWindows() closes the window afterward."
   ]
  }
 ],
 "metadata": {
  "kernelspec": {
   "display_name": "Python 3 (ipykernel)",
   "language": "python",
   "name": "python3"
  },
  "language_info": {
   "codemirror_mode": {
    "name": "ipython",
    "version": 3
   },
   "file_extension": ".py",
   "mimetype": "text/x-python",
   "name": "python",
   "nbconvert_exporter": "python",
   "pygments_lexer": "ipython3",
   "version": "3.11.7"
  }
 },
 "nbformat": 4,
 "nbformat_minor": 5
}
